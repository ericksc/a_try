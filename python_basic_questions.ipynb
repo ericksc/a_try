{
  "nbformat": 4,
  "nbformat_minor": 0,
  "metadata": {
    "colab": {
      "name": "python_basic_questions.ipynb",
      "provenance": [],
      "collapsed_sections": []
    },
    "kernelspec": {
      "name": "python3",
      "display_name": "Python 3"
    },
    "language_info": {
      "name": "python"
    }
  },
  "cells": [
    {
      "cell_type": "markdown",
      "source": [
        "# Questions: \n",
        "Read the following statements.\n",
        "Answer then applying Python Code"
      ],
      "metadata": {
        "id": "X0tMVw__740w"
      }
    },
    {
      "cell_type": "markdown",
      "source": [
        "\n",
        "\n",
        "1.   You have a list\n",
        "\n",
        "```python\n",
        "my_list = ['Python', 'is', 'still', 'cool']\n",
        "```\n",
        "How to access the first element in the list *my_list*?\n",
        "\n"
      ],
      "metadata": {
        "id": "Kt2TLhac79kO"
      }
    },
    {
      "cell_type": "code",
      "source": [
        "# type here your answer\n"
      ],
      "metadata": {
        "id": "DF2Bxieo77tv"
      },
      "execution_count": 10,
      "outputs": []
    },
    {
      "cell_type": "markdown",
      "source": [
        "\n",
        "\n",
        "2.   You have a list\n",
        "\n",
        "```python\n",
        "my_list = ['Python', 'is', 'still', 'cool']\n",
        "```\n",
        "How to remove the first element in the list *my_list*?\n",
        "\n"
      ],
      "metadata": {
        "id": "iYELswvV8ZAT"
      }
    },
    {
      "cell_type": "code",
      "source": [
        "# type here your answer\n"
      ],
      "metadata": {
        "id": "8S4ksjWK8tAd"
      },
      "execution_count": 11,
      "outputs": []
    },
    {
      "cell_type": "markdown",
      "source": [
        "\n",
        "3.   You have a list\n",
        "\n",
        "```python\n",
        "my_list = ['Python', 'is', 'still', 'cool']\n",
        "```\n",
        "How to check if the string 'code' is present in list *my_list*?\n",
        "\n"
      ],
      "metadata": {
        "id": "6auTDSR48z5S"
      }
    },
    {
      "cell_type": "code",
      "source": [
        "# type here your answer"
      ],
      "metadata": {
        "id": "PpI1ptVF9O-d"
      },
      "execution_count": 12,
      "outputs": []
    },
    {
      "cell_type": "markdown",
      "source": [
        "4.   You have a list\n",
        "\n",
        "```python\n",
        "my_list = ['Python', 'is', 'still', 'cool']\n",
        "```\n",
        "How to add at the end the string 'stuff' in list *my_list*?\n",
        "\n"
      ],
      "metadata": {
        "id": "XfCMPpvi9UyU"
      }
    },
    {
      "cell_type": "code",
      "source": [
        "# type here your answer"
      ],
      "metadata": {
        "id": "irNWplPT9mU2"
      },
      "execution_count": 13,
      "outputs": []
    },
    {
      "cell_type": "markdown",
      "source": [
        "5.   You have a list\n",
        "\n",
        "```python\n",
        "my_list = ['Python', 'is', 'still', 'cool']\n",
        "```\n",
        "How to sort list *my_list* but by the length of its element? starting with the lower.\n",
        "\n"
      ],
      "metadata": {
        "id": "nUPhh2-a9vZL"
      }
    },
    {
      "cell_type": "code",
      "source": [
        "# type here your answer"
      ],
      "metadata": {
        "id": "49kmEsly9-kd"
      },
      "execution_count": 14,
      "outputs": []
    },
    {
      "cell_type": "markdown",
      "source": [
        "\n",
        "\n",
        "\n",
        "\n",
        "6.   You have this estructure with payments per each person:\n",
        "\n",
        "\n",
        "\n",
        "```python\n",
        "people_expenses = [\n",
        "    ['Sue', 54.54,6.57,3.64],\n",
        "    ['John', 5.54,9.57,4.64],\n",
        "    ['Charles', 9.54,7.57,1.64] ,\n",
        "]\n",
        "```\n",
        "\n",
        "who spends the most?\n",
        "\n",
        "\n",
        "\n",
        "\n",
        "\n",
        "\n",
        "\n",
        "\n",
        "\n"
      ],
      "metadata": {
        "id": "AbI5A7f--NYo"
      }
    },
    {
      "cell_type": "code",
      "source": [
        "# type here your answer"
      ],
      "metadata": {
        "id": "Jl106nL6_ibF"
      },
      "execution_count": 15,
      "outputs": []
    },
    {
      "cell_type": "markdown",
      "source": [
        "\n",
        "\n",
        "7.   You need to buy some fruits at the supermarket\n",
        "\n",
        "\n",
        "\n",
        "```python\n",
        "fruits_you_want = ['apple', 'orange', 'lemon', 'cherry']\n",
        "```\n",
        "\n",
        "but there are available:\n",
        "\n",
        "\n",
        "\n",
        "```python\n",
        "at_supermarket = ['apple', 'orange', 'lemon', 'melon', 'grapes']\n",
        "```\n",
        "\n",
        "which fruit won't you buy?\n",
        "\n",
        "\n",
        "\n",
        "\n",
        "\n"
      ],
      "metadata": {
        "id": "aMpBs5md_kUk"
      }
    },
    {
      "cell_type": "code",
      "source": [
        "# type here your answer"
      ],
      "metadata": {
        "id": "vLwun6keAWzd"
      },
      "execution_count": 16,
      "outputs": []
    }
  ]
}